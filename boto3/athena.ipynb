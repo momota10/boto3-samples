{
 "cells": [
  {
   "cell_type": "code",
   "execution_count": null,
   "id": "90c3af9c",
   "metadata": {},
   "outputs": [],
   "source": [
    "import boto3"
   ]
  },
  {
   "cell_type": "code",
   "execution_count": null,
   "id": "739b432b",
   "metadata": {},
   "outputs": [],
   "source": [
    "athena = boto3.client(\n",
    "    'athena', \n",
    "    aws_access_key_id='', \n",
    "    aws_secret_access_key='',\n",
    "    region_name='ap-northeast-1'\n",
    ")"
   ]
  },
  {
   "cell_type": "code",
   "execution_count": null,
   "id": "cd4d8ae6",
   "metadata": {},
   "outputs": [],
   "source": [
    "res = athena.start_query_execution(\n",
    "    QueryString='select * from sample ',\n",
    "    QueryExecutionContext={\n",
    "        'Database': 'your-database'\n",
    "    },\n",
    "    ResultConfiguration={\n",
    "        'OutputLocation': 's3://your-bucket/'\n",
    "    }\n",
    ")"
   ]
  }
 ],
 "metadata": {
  "kernelspec": {
   "display_name": "Python 3 (ipykernel)",
   "language": "python",
   "name": "python3"
  },
  "language_info": {
   "codemirror_mode": {
    "name": "ipython",
    "version": 3
   },
   "file_extension": ".py",
   "mimetype": "text/x-python",
   "name": "python",
   "nbconvert_exporter": "python",
   "pygments_lexer": "ipython3",
   "version": "3.9.0"
  }
 },
 "nbformat": 4,
 "nbformat_minor": 5
}
